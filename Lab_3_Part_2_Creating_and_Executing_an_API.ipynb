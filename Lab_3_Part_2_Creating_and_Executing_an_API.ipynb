{
 "cells": [
  {
   "cell_type": "markdown",
   "id": "e51346f2",
   "metadata": {},
   "source": [
    "<h1> <center> M9 Lab 3: Assessment of Weather API Call"
   ]
  },
  {
   "cell_type": "markdown",
   "id": "6ab94905",
   "metadata": {},
   "source": [
    "# Acquire an API Key from OpenWeatherMap\n",
    "- First, register on the OpenWeatherMap website and create an account.\n",
    "- Next, locate and copy the API key from your account dashboard."
   ]
  },
  {
   "cell_type": "markdown",
   "id": "d38b5972",
   "metadata": {},
   "source": [
    "# Python Function for pulling weather Data"
   ]
  },
  {
   "cell_type": "code",
   "execution_count": 1,
   "id": "c46e38f5",
   "metadata": {},
   "outputs": [],
   "source": [
    "import requests\n",
    "import json\n",
    "import pandas as pd\n",
    "\n",
    "def get_weather_data(city, api_key):\n",
    "    try:\n",
    "        url = \"https://api.openweathermap.org/data/2.5/weather\"\n",
    "        params = {'q': city, 'appid': api_key}\n",
    "        response = requests.get(url, params=params)\n",
    "        response.raise_for_status()  # Raises an exception for HTTP errors (4xx or 5xx)\n",
    "        return response.json()\n",
    "    except requests.exceptions.RequestException as e:\n",
    "        # Handle request exceptions such as connection errors, timeouts, etc.\n",
    "        raise Exception(\"Failed to fetch weather data:\", e)"
   ]
  },
  {
   "cell_type": "markdown",
   "id": "210c98e5",
   "metadata": {},
   "source": [
    "## Installing Required Libraries"
   ]
  },
  {
   "cell_type": "code",
   "execution_count": 2,
   "id": "abdc5031",
   "metadata": {},
   "outputs": [
    {
     "name": "stdout",
     "output_type": "stream",
     "text": [
      "Requirement already satisfied: boto3 in /Applications/anaconda3/lib/python3.11/site-packages (1.34.77)\r\n",
      "Requirement already satisfied: botocore<1.35.0,>=1.34.77 in /Applications/anaconda3/lib/python3.11/site-packages (from boto3) (1.34.81)\r\n",
      "Requirement already satisfied: jmespath<2.0.0,>=0.7.1 in /Applications/anaconda3/lib/python3.11/site-packages (from boto3) (0.10.0)\r\n",
      "Requirement already satisfied: s3transfer<0.11.0,>=0.10.0 in /Applications/anaconda3/lib/python3.11/site-packages (from boto3) (0.10.1)\r\n",
      "Requirement already satisfied: python-dateutil<3.0.0,>=2.1 in /Applications/anaconda3/lib/python3.11/site-packages (from botocore<1.35.0,>=1.34.77->boto3) (2.8.2)\r\n",
      "Requirement already satisfied: urllib3!=2.2.0,<3,>=1.25.4 in /Applications/anaconda3/lib/python3.11/site-packages (from botocore<1.35.0,>=1.34.77->boto3) (1.26.16)\r\n",
      "Requirement already satisfied: six>=1.5 in /Applications/anaconda3/lib/python3.11/site-packages (from python-dateutil<3.0.0,>=2.1->botocore<1.35.0,>=1.34.77->boto3) (1.16.0)\r\n"
     ]
    }
   ],
   "source": [
    "!pip install boto3"
   ]
  },
  {
   "cell_type": "markdown",
   "id": "fa362621",
   "metadata": {},
   "source": [
    "## Uploading data to S3 bucket"
   ]
  },
  {
   "cell_type": "code",
   "execution_count": 3,
   "id": "bb385191",
   "metadata": {},
   "outputs": [],
   "source": [
    "import boto3\n",
    "import json\n",
    "\n",
    "def uploading_to_s3(bucket_name, file_name, data):\n",
    "    try:\n",
    "        s3 = boto3.resource('s3')\n",
    "        obj = s3.Object(bucket_name, file_name)\n",
    "        obj.put(Body=json.dumps(data))\n",
    "        print(f\"Data uploaded successfully to s3://{bucket_name}/{file_name}\")\n",
    "    except Exception as e:\n",
    "        print(\"Failed to upload data to S3:\", e)"
   ]
  },
  {
   "cell_type": "code",
   "execution_count": 4,
   "id": "7d5474d2",
   "metadata": {},
   "outputs": [],
   "source": [
    "# Main execution\n",
    "api_key = \"e78b075bae5ac2aaef09f2a9dbdcce08\"   # Replace with your API key\n",
    "city = \"Ohio\"  # Replace with desired city\n",
    "bucket_name = \"lab-03-group1\"  # Replace with your S3 bucket name\n",
    "file_name = \"Group_1_weather_data_ohio.json\"\n"
   ]
  },
  {
   "cell_type": "code",
   "execution_count": 5,
   "id": "478a1360",
   "metadata": {},
   "outputs": [
    {
     "name": "stdout",
     "output_type": "stream",
     "text": [
      "Data uploaded successfully to s3://lab-03-group1/Group_1_weather_data_ohio.json\n"
     ]
    }
   ],
   "source": [
    "# Get weather data\n",
    "weather_data = get_weather_data(city, api_key)\n",
    "\n",
    "# Upload data to S3\n",
    "uploading_to_s3(bucket_name, file_name, weather_data)\n"
   ]
  },
  {
   "cell_type": "code",
   "execution_count": 6,
   "id": "46eec54e",
   "metadata": {},
   "outputs": [
    {
     "name": "stdout",
     "output_type": "stream",
     "text": [
      "{'coord': {'lon': -83.0002, 'lat': 40.2503}, 'weather': [{'id': 500, 'main': 'Rain', 'description': 'light rain', 'icon': '10n'}], 'base': 'stations', 'main': {'temp': 286.93, 'feels_like': 286.82, 'temp_min': 286.03, 'temp_max': 287.64, 'pressure': 1012, 'humidity': 94}, 'visibility': 10000, 'wind': {'speed': 2.24, 'deg': 180, 'gust': 3.58}, 'rain': {'1h': 0.45}, 'clouds': {'all': 100}, 'dt': 1712737132, 'sys': {'type': 2, 'id': 2084058, 'country': 'US', 'sunrise': 1712746830, 'sunset': 1712793923}, 'timezone': -14400, 'id': 5165418, 'name': 'Ohio', 'cod': 200}\n"
     ]
    }
   ],
   "source": [
    "try:\n",
    "    weather_data = get_weather_data(city, api_key)\n",
    "    print(weather_data)\n",
    "except Exception as e:\n",
    "    print(f\"An error occurred: {e}\")"
   ]
  },
  {
   "cell_type": "markdown",
   "id": "5f40e481",
   "metadata": {},
   "source": [
    "## Converting JSON format to CSV format"
   ]
  },
  {
   "cell_type": "code",
   "execution_count": 7,
   "id": "911cd5ac",
   "metadata": {},
   "outputs": [
    {
     "name": "stdout",
     "output_type": "stream",
     "text": [
      "Contents of the 'lab-03-group1' bucket:\n",
      "Group_1_weather_data_london.csv\n",
      "Group_1_weather_data_london.json\n",
      "Group_1_weather_data_ohio.json\n"
     ]
    }
   ],
   "source": [
    "import boto3\n",
    "\n",
    "def print_bucket_contents(bucket):\n",
    "    try:\n",
    "        # Create an S3 client\n",
    "        s3 = boto3.client('s3')\n",
    "        \n",
    "        # List objects in the specified bucket\n",
    "        response = s3.list_objects_v2(Bucket=bucket)\n",
    "\n",
    "        # Check if the bucket contains any objects\n",
    "        if 'Contents' in response:\n",
    "            print(\"Contents of the '{}' bucket:\".format(bucket))\n",
    "            for obj in response['Contents']:\n",
    "                print(obj['Key'])\n",
    "        else:\n",
    "            print(\"The bucket '{}' is empty.\".format(bucket))\n",
    "    \n",
    "    except Exception as e:\n",
    "        print(f\"An error occurred while listing objects in bucket '{bucket}': {e}\")\n",
    "\n",
    "\n",
    "bucket_name = \"lab-03-group1\"\n",
    "print_bucket_contents(bucket_name)\n"
   ]
  },
  {
   "cell_type": "code",
   "execution_count": 8,
   "id": "a8efe5d7",
   "metadata": {},
   "outputs": [
    {
     "data": {
      "text/html": [
       "<div>\n",
       "<style scoped>\n",
       "    .dataframe tbody tr th:only-of-type {\n",
       "        vertical-align: middle;\n",
       "    }\n",
       "\n",
       "    .dataframe tbody tr th {\n",
       "        vertical-align: top;\n",
       "    }\n",
       "\n",
       "    .dataframe thead th {\n",
       "        text-align: right;\n",
       "    }\n",
       "</style>\n",
       "<table border=\"1\" class=\"dataframe\">\n",
       "  <thead>\n",
       "    <tr style=\"text-align: right;\">\n",
       "      <th></th>\n",
       "      <th>base</th>\n",
       "      <th>visibility</th>\n",
       "      <th>dt</th>\n",
       "      <th>timezone</th>\n",
       "      <th>id</th>\n",
       "      <th>name</th>\n",
       "      <th>cod</th>\n",
       "      <th>coord.lon</th>\n",
       "      <th>coord.lat</th>\n",
       "      <th>main.temp</th>\n",
       "      <th>main.feels_like</th>\n",
       "      <th>main.temp_min</th>\n",
       "      <th>main.temp_max</th>\n",
       "      <th>main.pressure</th>\n",
       "      <th>main.humidity</th>\n",
       "      <th>wind.speed</th>\n",
       "      <th>wind.deg</th>\n",
       "      <th>wind.gust</th>\n",
       "      <th>rain.1h</th>\n",
       "      <th>clouds.all</th>\n",
       "      <th>sys.type</th>\n",
       "      <th>sys.id</th>\n",
       "      <th>sys.country</th>\n",
       "      <th>sys.sunrise</th>\n",
       "      <th>sys.sunset</th>\n",
       "      <th>weather.id</th>\n",
       "      <th>weather.main</th>\n",
       "      <th>weather.description</th>\n",
       "      <th>weather.icon</th>\n",
       "    </tr>\n",
       "  </thead>\n",
       "  <tbody>\n",
       "    <tr>\n",
       "      <th>0</th>\n",
       "      <td>stations</td>\n",
       "      <td>10000</td>\n",
       "      <td>1712737132</td>\n",
       "      <td>-14400</td>\n",
       "      <td>5165418</td>\n",
       "      <td>Ohio</td>\n",
       "      <td>200</td>\n",
       "      <td>-83.0002</td>\n",
       "      <td>40.2503</td>\n",
       "      <td>286.93</td>\n",
       "      <td>286.82</td>\n",
       "      <td>286.03</td>\n",
       "      <td>287.64</td>\n",
       "      <td>1012</td>\n",
       "      <td>94</td>\n",
       "      <td>2.24</td>\n",
       "      <td>180</td>\n",
       "      <td>3.58</td>\n",
       "      <td>0.45</td>\n",
       "      <td>100</td>\n",
       "      <td>2</td>\n",
       "      <td>2084058</td>\n",
       "      <td>US</td>\n",
       "      <td>1712746830</td>\n",
       "      <td>1712793923</td>\n",
       "      <td>500</td>\n",
       "      <td>Rain</td>\n",
       "      <td>light rain</td>\n",
       "      <td>10n</td>\n",
       "    </tr>\n",
       "  </tbody>\n",
       "</table>\n",
       "</div>"
      ],
      "text/plain": [
       "       base  visibility          dt  timezone       id  name  cod  coord.lon  \\\n",
       "0  stations       10000  1712737132    -14400  5165418  Ohio  200   -83.0002   \n",
       "\n",
       "   coord.lat  main.temp  main.feels_like  main.temp_min  main.temp_max  \\\n",
       "0    40.2503     286.93           286.82         286.03         287.64   \n",
       "\n",
       "   main.pressure  main.humidity  wind.speed  wind.deg  wind.gust  rain.1h  \\\n",
       "0           1012             94        2.24       180       3.58     0.45   \n",
       "\n",
       "   clouds.all  sys.type   sys.id sys.country  sys.sunrise  sys.sunset  \\\n",
       "0         100         2  2084058          US   1712746830  1712793923   \n",
       "\n",
       "   weather.id weather.main weather.description weather.icon  \n",
       "0         500         Rain          light rain          10n  "
      ]
     },
     "execution_count": 8,
     "metadata": {},
     "output_type": "execute_result"
    }
   ],
   "source": [
    "# Configure to display all the data\n",
    "pd.set_option('display.max_columns', None)\n",
    "pd.set_option('display.max_rows', None)\n",
    "\n",
    "# Converting json to dataframe\n",
    "flattened_data = pd.json_normalize(weather_data) # Flatten the JSON data\n",
    "\n",
    "# Flatten 'weather' column separately with prefix\n",
    "weather_data_norm = pd.json_normalize(weather_data['weather']).add_prefix('weather.')\n",
    "\n",
    "# Merge the two DataFrames\n",
    "df = pd.concat([flattened_data, weather_data_norm], axis=1)\n",
    "df = df.drop(columns = ['weather'], axis = 1) # drop the weather column\n",
    "\n",
    "# Display DataFrame\n",
    "df"
   ]
  },
  {
   "cell_type": "code",
   "execution_count": 9,
   "id": "5fbc7ad6",
   "metadata": {},
   "outputs": [
    {
     "name": "stdout",
     "output_type": "stream",
     "text": [
      "Data uploaded successfully to S3 bucket\n"
     ]
    }
   ],
   "source": [
    "import boto3\n",
    "import pandas as pd\n",
    "\n",
    "# Assume 'df' is the DataFrame containing weather data\n",
    "\n",
    "file_name_csv = \"Group_1_weather_data_ohio.csv\"\n",
    "\n",
    "# Converting DataFrame to CSV string data\n",
    "try:\n",
    "    csv_content = df.to_csv(index=False)\n",
    "except Exception as e:\n",
    "    print(\"Error while converting DataFrame to CSV Format:\", e)\n",
    "    csv_content = None\n",
    "\n",
    "# Uploading the CSV content to S3 bucket\n",
    "if csv_content is not None:\n",
    "    try:\n",
    "        s3 = boto3.client('s3')\n",
    "        response = s3.put_object(\n",
    "            Bucket=bucket_name,\n",
    "            Key=file_name_csv,\n",
    "            Body=csv_content.encode('utf-8')  # Convert to bytes\n",
    "        )\n",
    "        print(\"Data uploaded successfully to S3 bucket\")\n",
    "    except Exception as e:\n",
    "        print(\"Error uploading file to S3:\", e)\n",
    "else:\n",
    "    print(\"CSV content is None, Upload Failed.\")\n"
   ]
  },
  {
   "cell_type": "code",
   "execution_count": 10,
   "id": "6a4e1a9f",
   "metadata": {},
   "outputs": [
    {
     "name": "stdout",
     "output_type": "stream",
     "text": [
      "JSON file 'Group_1_weather_data_ohio.json' exists in the 'lab-03-group1' bucket.\n"
     ]
    }
   ],
   "source": [
    "import boto3\n",
    "\n",
    "def check_json_file(bucket_name, file_name):\n",
    "    try:\n",
    "        s3 = boto3.client('s3')\n",
    "        response = s3.head_object(Bucket=bucket_name, Key=file_name)\n",
    "        print(f\"JSON file '{file_name}' exists in the '{bucket_name}' bucket.\")\n",
    "    except Exception as e:\n",
    "        print(f\"JSON file '{file_name}' does not exist in the '{bucket_name}' bucket. Error: {e}\")\n",
    "\n",
    "# Usage\n",
    "check_json_file(bucket_name, file_name)"
   ]
  },
  {
   "cell_type": "code",
   "execution_count": 11,
   "id": "7928f7b9",
   "metadata": {},
   "outputs": [
    {
     "name": "stdout",
     "output_type": "stream",
     "text": [
      "Contents of the 'lab-03-group1' bucket:\n",
      "Group_1_weather_data_london.csv\n",
      "Group_1_weather_data_london.json\n",
      "Group_1_weather_data_ohio.json\n"
     ]
    }
   ],
   "source": [
    "print_bucket_contents(bucket_name)"
   ]
  },
  {
   "cell_type": "code",
   "execution_count": null,
   "id": "194a77ee",
   "metadata": {},
   "outputs": [],
   "source": []
  }
 ],
 "metadata": {
  "kernelspec": {
   "display_name": "Python 3 (ipykernel)",
   "language": "python",
   "name": "python3"
  },
  "language_info": {
   "codemirror_mode": {
    "name": "ipython",
    "version": 3
   },
   "file_extension": ".py",
   "mimetype": "text/x-python",
   "name": "python",
   "nbconvert_exporter": "python",
   "pygments_lexer": "ipython3",
   "version": "3.11.5"
  }
 },
 "nbformat": 4,
 "nbformat_minor": 5
}
